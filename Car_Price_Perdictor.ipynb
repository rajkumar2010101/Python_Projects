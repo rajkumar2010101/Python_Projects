{
 "cells": [
  {
   "cell_type": "code",
   "execution_count": 1,
   "id": "c1d94114",
   "metadata": {},
   "outputs": [],
   "source": [
    "import pandas as pd"
   ]
  },
  {
   "cell_type": "code",
   "execution_count": 3,
   "id": "d2a7f5dd",
   "metadata": {},
   "outputs": [],
   "source": [
    "cr = pd.read_csv('quikr_car.csv')"
   ]
  },
  {
   "cell_type": "code",
   "execution_count": 7,
   "id": "54dfac98",
   "metadata": {},
   "outputs": [
    {
     "data": {
      "text/html": [
       "<div>\n",
       "<style scoped>\n",
       "    .dataframe tbody tr th:only-of-type {\n",
       "        vertical-align: middle;\n",
       "    }\n",
       "\n",
       "    .dataframe tbody tr th {\n",
       "        vertical-align: top;\n",
       "    }\n",
       "\n",
       "    .dataframe thead th {\n",
       "        text-align: right;\n",
       "    }\n",
       "</style>\n",
       "<table border=\"1\" class=\"dataframe\">\n",
       "  <thead>\n",
       "    <tr style=\"text-align: right;\">\n",
       "      <th></th>\n",
       "      <th>name</th>\n",
       "      <th>company</th>\n",
       "      <th>year</th>\n",
       "      <th>Price</th>\n",
       "      <th>kms_driven</th>\n",
       "      <th>fuel_type</th>\n",
       "      <th>Unnamed: 6</th>\n",
       "      <th>Unnamed: 7</th>\n",
       "      <th>Unnamed: 8</th>\n",
       "      <th>Unnamed: 9</th>\n",
       "      <th>Unnamed: 10</th>\n",
       "    </tr>\n",
       "  </thead>\n",
       "  <tbody>\n",
       "    <tr>\n",
       "      <th>0</th>\n",
       "      <td>Hyundai Santro Xing XO eRLX Euro III</td>\n",
       "      <td>Hyundai</td>\n",
       "      <td>2018</td>\n",
       "      <td>80,000.0</td>\n",
       "      <td>45,000 kms</td>\n",
       "      <td>Petrol</td>\n",
       "      <td>NaN</td>\n",
       "      <td>NaN</td>\n",
       "      <td>NaN</td>\n",
       "      <td>NaN</td>\n",
       "      <td>NaN</td>\n",
       "    </tr>\n",
       "    <tr>\n",
       "      <th>1</th>\n",
       "      <td>Mahindra Jeep CL550 MDI</td>\n",
       "      <td>Mahindra</td>\n",
       "      <td>2019</td>\n",
       "      <td>4,25,000</td>\n",
       "      <td>40 kms</td>\n",
       "      <td>Diesel</td>\n",
       "      <td>NaN</td>\n",
       "      <td>NaN</td>\n",
       "      <td>NaN</td>\n",
       "      <td>NaN</td>\n",
       "      <td>NaN</td>\n",
       "    </tr>\n",
       "    <tr>\n",
       "      <th>2</th>\n",
       "      <td>Maruti Suzuki Alto 800 Vxi</td>\n",
       "      <td>Maruti</td>\n",
       "      <td>2015</td>\n",
       "      <td>10,000 kms</td>\n",
       "      <td>22,000 kms</td>\n",
       "      <td>Petrol</td>\n",
       "      <td>NaN</td>\n",
       "      <td>NaN</td>\n",
       "      <td>NaN</td>\n",
       "      <td>NaN</td>\n",
       "      <td>NaN</td>\n",
       "    </tr>\n",
       "    <tr>\n",
       "      <th>3</th>\n",
       "      <td>Hyundai Grand i10 Magna 1.2 Kappa VTVT</td>\n",
       "      <td>Hyundai</td>\n",
       "      <td>2014</td>\n",
       "      <td>3,25,000</td>\n",
       "      <td>28,000 kms</td>\n",
       "      <td>Petrol</td>\n",
       "      <td>NaN</td>\n",
       "      <td>NaN</td>\n",
       "      <td>NaN</td>\n",
       "      <td>NaN</td>\n",
       "      <td>NaN</td>\n",
       "    </tr>\n",
       "    <tr>\n",
       "      <th>4</th>\n",
       "      <td>Ford EcoSport Titanium 1.5L TDCi</td>\n",
       "      <td>Ford</td>\n",
       "      <td>2016</td>\n",
       "      <td>5,75,000</td>\n",
       "      <td>36,000 kms</td>\n",
       "      <td>Diesel</td>\n",
       "      <td>NaN</td>\n",
       "      <td>NaN</td>\n",
       "      <td>NaN</td>\n",
       "      <td>NaN</td>\n",
       "      <td>NaN</td>\n",
       "    </tr>\n",
       "  </tbody>\n",
       "</table>\n",
       "</div>"
      ],
      "text/plain": [
       "                                     name   company  year       Price  \\\n",
       "0    Hyundai Santro Xing XO eRLX Euro III   Hyundai  2018    80,000.0   \n",
       "1                 Mahindra Jeep CL550 MDI  Mahindra  2019    4,25,000   \n",
       "2              Maruti Suzuki Alto 800 Vxi    Maruti  2015  10,000 kms   \n",
       "3  Hyundai Grand i10 Magna 1.2 Kappa VTVT   Hyundai  2014    3,25,000   \n",
       "4        Ford EcoSport Titanium 1.5L TDCi      Ford  2016    5,75,000   \n",
       "\n",
       "   kms_driven fuel_type  Unnamed: 6  Unnamed: 7  Unnamed: 8  Unnamed: 9  \\\n",
       "0  45,000 kms    Petrol         NaN         NaN         NaN         NaN   \n",
       "1      40 kms    Diesel         NaN         NaN         NaN         NaN   \n",
       "2  22,000 kms    Petrol         NaN         NaN         NaN         NaN   \n",
       "3  28,000 kms    Petrol         NaN         NaN         NaN         NaN   \n",
       "4  36,000 kms    Diesel         NaN         NaN         NaN         NaN   \n",
       "\n",
       "   Unnamed: 10  \n",
       "0          NaN  \n",
       "1          NaN  \n",
       "2          NaN  \n",
       "3          NaN  \n",
       "4          NaN  "
      ]
     },
     "execution_count": 7,
     "metadata": {},
     "output_type": "execute_result"
    }
   ],
   "source": [
    "cr.head()"
   ]
  },
  {
   "cell_type": "code",
   "execution_count": 6,
   "id": "26f2b574",
   "metadata": {},
   "outputs": [
    {
     "data": {
      "text/plain": [
       "<bound method DataFrame.info of                                        name    company  year       Price  \\\n",
       "0      Hyundai Santro Xing XO eRLX Euro III    Hyundai  2018    80,000.0   \n",
       "1                   Mahindra Jeep CL550 MDI   Mahindra  2019    4,25,000   \n",
       "2                Maruti Suzuki Alto 800 Vxi     Maruti  2015  10,000 kms   \n",
       "3    Hyundai Grand i10 Magna 1.2 Kappa VTVT    Hyundai  2014    3,25,000   \n",
       "4          Ford EcoSport Titanium 1.5L TDCi       Ford  2016    5,75,000   \n",
       "..                                      ...        ...   ...         ...   \n",
       "840                    Toyota Corolla Altis     Toyota  2015    3,00,000   \n",
       "841                     Tata Zest XM Diesel       Tata  2016    2,60,000   \n",
       "842                      Mahindra Quanto C8   Mahindra  2015    3,90,000   \n",
       "843                Honda Amaze 1.2 E i VTEC      Honda  2019    1,80,000   \n",
       "844               Chevrolet Sail 1.2 LT ABS  Chevrolet  2018    1,60,000   \n",
       "\n",
       "       kms_driven fuel_type  Unnamed: 6  Unnamed: 7  Unnamed: 8  Unnamed: 9  \\\n",
       "0      45,000 kms    Petrol         NaN         NaN         NaN         NaN   \n",
       "1          40 kms    Diesel         NaN         NaN         NaN         NaN   \n",
       "2      22,000 kms    Petrol         NaN         NaN         NaN         NaN   \n",
       "3      28,000 kms    Petrol         NaN         NaN         NaN         NaN   \n",
       "4      36,000 kms    Diesel         NaN         NaN         NaN         NaN   \n",
       "..            ...       ...         ...         ...         ...         ...   \n",
       "840  1,32,000 kms    Petrol         NaN         NaN         NaN         NaN   \n",
       "841    27,000 kms    Diesel         NaN         NaN         NaN         NaN   \n",
       "842    40,000 kms    Diesel         NaN         NaN         NaN         NaN   \n",
       "843        Petrol    Petrol         NaN         NaN         NaN         NaN   \n",
       "844        Petrol    Diesel         NaN         NaN         NaN         NaN   \n",
       "\n",
       "     Unnamed: 10  \n",
       "0            NaN  \n",
       "1            NaN  \n",
       "2            NaN  \n",
       "3            NaN  \n",
       "4            NaN  \n",
       "..           ...  \n",
       "840          NaN  \n",
       "841          NaN  \n",
       "842          NaN  \n",
       "843          NaN  \n",
       "844          NaN  \n",
       "\n",
       "[845 rows x 11 columns]>"
      ]
     },
     "execution_count": 6,
     "metadata": {},
     "output_type": "execute_result"
    }
   ],
   "source": [
    "cr.info"
   ]
  },
  {
   "cell_type": "code",
   "execution_count": 13,
   "id": "59c5501c",
   "metadata": {},
   "outputs": [],
   "source": [
    "cr.drop(['Unnamed: 7','Unnamed: 8','Unnamed: 9','Unnamed: 10'], axis = 1,inplace = True)"
   ]
  },
  {
   "cell_type": "code",
   "execution_count": 24,
   "id": "0f61ab0d",
   "metadata": {},
   "outputs": [
    {
     "name": "stdout",
     "output_type": "stream",
     "text": [
      "<class 'pandas.core.frame.DataFrame'>\n",
      "Int64Index: 839 entries, 0 to 844\n",
      "Data columns (total 6 columns):\n",
      " #   Column      Non-Null Count  Dtype \n",
      "---  ------      --------------  ----- \n",
      " 0   name        839 non-null    object\n",
      " 1   company     839 non-null    object\n",
      " 2   year        839 non-null    int32 \n",
      " 3   Price       839 non-null    object\n",
      " 4   kms_driven  839 non-null    object\n",
      " 5   fuel_type   839 non-null    object\n",
      "dtypes: int32(1), object(5)\n",
      "memory usage: 42.6+ KB\n"
     ]
    }
   ],
   "source": [
    "cr.info()"
   ]
  },
  {
   "cell_type": "code",
   "execution_count": 15,
   "id": "2e976e30",
   "metadata": {},
   "outputs": [
    {
     "data": {
      "text/plain": [
       "name          0\n",
       "company       0\n",
       "year          0\n",
       "Price         0\n",
       "kms_driven    6\n",
       "fuel_type     6\n",
       "dtype: int64"
      ]
     },
     "execution_count": 15,
     "metadata": {},
     "output_type": "execute_result"
    }
   ],
   "source": [
    "cr.isnull().sum()"
   ]
  },
  {
   "cell_type": "code",
   "execution_count": 16,
   "id": "d315860c",
   "metadata": {},
   "outputs": [],
   "source": [
    "cr.dropna(inplace = True)"
   ]
  },
  {
   "cell_type": "code",
   "execution_count": 17,
   "id": "b2b9403b",
   "metadata": {},
   "outputs": [
    {
     "data": {
      "text/plain": [
       "name          0\n",
       "company       0\n",
       "year          0\n",
       "Price         0\n",
       "kms_driven    0\n",
       "fuel_type     0\n",
       "dtype: int64"
      ]
     },
     "execution_count": 17,
     "metadata": {},
     "output_type": "execute_result"
    }
   ],
   "source": [
    "cr.isnull().sum()"
   ]
  },
  {
   "cell_type": "code",
   "execution_count": 18,
   "id": "e6d0388f",
   "metadata": {},
   "outputs": [
    {
     "data": {
      "text/plain": [
       "(839, 6)"
      ]
     },
     "execution_count": 18,
     "metadata": {},
     "output_type": "execute_result"
    }
   ],
   "source": [
    "cr.shape"
   ]
  },
  {
   "cell_type": "code",
   "execution_count": 21,
   "id": "6d8f5b53",
   "metadata": {},
   "outputs": [
    {
     "data": {
      "text/plain": [
       "array(['80,000.0', '4,25,000', '10,000 kms', '3,25,000', '5,75,000',\n",
       "       '1,75,000', '1,90,000', '8,30,000', '2,50,000', '1,82,000',\n",
       "       '3,15,000', '4,15,000', '3,20,000', '10,00,000', '5,00,000',\n",
       "       '3,50,000', '1,60,000', '3,10,000', '75,000.0', '1,00,000',\n",
       "       '2,90,000', '95,000.0', '1,80,000', '3,85,000', '1,05,000',\n",
       "       '6,50,000', '6,89,999', '4,48,000', '5,49,000', '5,01,000',\n",
       "       '4,89,999', '2,80,000', '3,49,999', '2,84,999', '3,45,000',\n",
       "       '4,99,999', '2,35,000', '2,49,999', '14,75,000', '3,95,000',\n",
       "       '2,20,000', '1,70,000', '85,000.0', '2,00,000', '5,70,000',\n",
       "       '1,10,000', '4,48,999', '18,91,111', '1,59,500', '3,44,999',\n",
       "       '4,49,999', '8,65,000', '6,99,000', '3,75,000', '2,24,999',\n",
       "       '12,00,000', '1,95,000', '3,51,000', '2,40,000', '90,000.0',\n",
       "       '1,55,000', '6,00,000', '1,89,500', '2,10,000', '3,90,000',\n",
       "       '1,35,000', '16,00,000', '7,01,000', '2,65,000', '5,25,000',\n",
       "       '3,72,000', '6,35,000', '5,50,000', '4,85,000', '3,29,500',\n",
       "       '2,51,111', '5,69,999', '69,999.0', '2,99,999', '3,99,999',\n",
       "       '4,50,000', '2,70,000', '1,58,400', '1,79,000', '1,25,000',\n",
       "       '2,99,000', '1,50,000', '2,85,000', '3,40,000', '10,000.0',\n",
       "       '70,000.0', '2,89,999', '8,49,999', '7,49,999', '2,74,999',\n",
       "       '9,84,999', '5,99,999', '2,44,999', '4,74,999', '2,45,000',\n",
       "       '1,69,500', '2,75,000', '3,70,000', '1,68,000', '1,45,000',\n",
       "       '98,500.0', '2,09,000', '1,85,000', '9,00,000', '6,99,999',\n",
       "       '1,99,999', '5,44,999', '1,99,000', '5,40,000', '49,000.0',\n",
       "       '7,00,000', '55,000.0', '8,95,000', '3,55,000', '5,65,000',\n",
       "       '3,65,000', '40,000.0', '4,00,000', '3,30,000', '5,80,000',\n",
       "       '3,79,000', '2,19,000', '5,19,000', '7,30,000', '20,00,000',\n",
       "       '21,00,000', '14,00,000', '3,11,000', '8,55,000', '5,35,000',\n",
       "       '1,78,000', '3,00,000', '2,55,000', '5,49,999', '3,80,000',\n",
       "       '57,000.0', '4,10,000', '2,25,000', '1,20,000', '59,000.0',\n",
       "       '5,99,000', '6,75,000', '72,500.0', '6,10,000', '2,30,000',\n",
       "       '5,20,000', '5,24,999', '4,24,999', '6,44,999', '5,84,999',\n",
       "       '7,99,999', '4,44,999', '6,49,999', '9,44,999', '5,74,999',\n",
       "       '3,74,999', '1,30,000', '4,01,000', '13,50,000', '1,74,999',\n",
       "       '2,39,999', '99,999.0', '3,24,999', '10,74,999', '11,30,000',\n",
       "       '1,49,000', '7,70,000', '30,000.0', '3,35,000', '3,99,000',\n",
       "       '65,000.0', '1,69,999', '1,65,000', '5,60,000', '9,50,000',\n",
       "       '7,15,000', '45,000.0', '9,40,000', '1,55,555', '15,00,000',\n",
       "       '4,95,000', '8,00,000', '12,99,000', '5,30,000', '14,99,000',\n",
       "       '32,000.0', '4,05,000', '7,60,000', '7,50,000', '4,19,000',\n",
       "       '1,40,000', '15,40,000', '1,23,000', '4,98,000', '4,80,000',\n",
       "       '4,88,000', '15,25,000', '5,48,900', '7,25,000', '99,000.0',\n",
       "       '52,000.0', '28,00,000', '4,99,000', '3,81,000', '2,78,000',\n",
       "       '6,90,000', '2,60,000', '90,001.0', '1,15,000', '15,99,000',\n",
       "       '1,59,000', '51,999.0', '2,15,000', '35,000.0', '11,50,000',\n",
       "       '2,69,000', '60,000.0', '4,30,000', '85,00,003', '4,01,919',\n",
       "       '4,90,000', '4,24,000', '2,05,000', '5,49,900', '4,35,000',\n",
       "       '1,89,700', '3,89,700', '3,60,000', '2,95,000', '1,14,990',\n",
       "       '10,65,000', '4,70,000', '48,000.0', '1,88,000', '4,65,000',\n",
       "       '1,79,999', '21,90,000', '23,90,000', '10,75,000', '4,75,000',\n",
       "       '10,25,000', '6,15,000', '19,00,000', '14,90,000', '15,10,000',\n",
       "       '18,50,000', '7,90,000', '17,25,000', '12,25,000', '68,000.0',\n",
       "       '9,70,000', '31,00,000', '8,99,000', '88,000.0', '53,000.0',\n",
       "       '5,68,500', '71,000.0', '5,90,000', '7,95,000', '42,000.0',\n",
       "       '1,89,000', '1,62,000', '35,999.0', '29,00,000', '39,999.0',\n",
       "       '10,000,00', '50,500.0', '5,10,000', '8,60,000', '5,00,001'],\n",
       "      dtype=object)"
      ]
     },
     "execution_count": 21,
     "metadata": {},
     "output_type": "execute_result"
    }
   ],
   "source": [
    "cr['Price'].unique()"
   ]
  },
  {
   "cell_type": "code",
   "execution_count": 39,
   "id": "3ff4581a",
   "metadata": {},
   "outputs": [],
   "source": [
    "cr['Price'] = cr['Price'].str.replace(',' , '' )"
   ]
  },
  {
   "cell_type": "code",
   "execution_count": 38,
   "id": "6239cade",
   "metadata": {},
   "outputs": [
    {
     "data": {
      "text/html": [
       "<div>\n",
       "<style scoped>\n",
       "    .dataframe tbody tr th:only-of-type {\n",
       "        vertical-align: middle;\n",
       "    }\n",
       "\n",
       "    .dataframe tbody tr th {\n",
       "        vertical-align: top;\n",
       "    }\n",
       "\n",
       "    .dataframe thead th {\n",
       "        text-align: right;\n",
       "    }\n",
       "</style>\n",
       "<table border=\"1\" class=\"dataframe\">\n",
       "  <thead>\n",
       "    <tr style=\"text-align: right;\">\n",
       "      <th></th>\n",
       "      <th>name</th>\n",
       "      <th>company</th>\n",
       "      <th>year</th>\n",
       "      <th>Price</th>\n",
       "      <th>kms_driven</th>\n",
       "      <th>fuel_type</th>\n",
       "    </tr>\n",
       "  </thead>\n",
       "  <tbody>\n",
       "    <tr>\n",
       "      <th>0</th>\n",
       "      <td>Hyundai Santro Xing XO eRLX Euro III</td>\n",
       "      <td>Hyundai</td>\n",
       "      <td>2018</td>\n",
       "      <td>80000.0</td>\n",
       "      <td>45,000 kms</td>\n",
       "      <td>Petrol</td>\n",
       "    </tr>\n",
       "    <tr>\n",
       "      <th>1</th>\n",
       "      <td>Mahindra Jeep CL550 MDI</td>\n",
       "      <td>Mahindra</td>\n",
       "      <td>2019</td>\n",
       "      <td>425000</td>\n",
       "      <td>40 kms</td>\n",
       "      <td>Diesel</td>\n",
       "    </tr>\n",
       "    <tr>\n",
       "      <th>3</th>\n",
       "      <td>Hyundai Grand i10 Magna 1.2 Kappa VTVT</td>\n",
       "      <td>Hyundai</td>\n",
       "      <td>2014</td>\n",
       "      <td>325000</td>\n",
       "      <td>28,000 kms</td>\n",
       "      <td>Petrol</td>\n",
       "    </tr>\n",
       "    <tr>\n",
       "      <th>4</th>\n",
       "      <td>Ford EcoSport Titanium 1.5L TDCi</td>\n",
       "      <td>Ford</td>\n",
       "      <td>2016</td>\n",
       "      <td>575000</td>\n",
       "      <td>36,000 kms</td>\n",
       "      <td>Diesel</td>\n",
       "    </tr>\n",
       "    <tr>\n",
       "      <th>6</th>\n",
       "      <td>Ford Figo</td>\n",
       "      <td>Ford</td>\n",
       "      <td>2016</td>\n",
       "      <td>175000</td>\n",
       "      <td>41,000 kms</td>\n",
       "      <td>Diesel</td>\n",
       "    </tr>\n",
       "    <tr>\n",
       "      <th>...</th>\n",
       "      <td>...</td>\n",
       "      <td>...</td>\n",
       "      <td>...</td>\n",
       "      <td>...</td>\n",
       "      <td>...</td>\n",
       "      <td>...</td>\n",
       "    </tr>\n",
       "    <tr>\n",
       "      <th>840</th>\n",
       "      <td>Toyota Corolla Altis</td>\n",
       "      <td>Toyota</td>\n",
       "      <td>2015</td>\n",
       "      <td>300000</td>\n",
       "      <td>1,32,000 kms</td>\n",
       "      <td>Petrol</td>\n",
       "    </tr>\n",
       "    <tr>\n",
       "      <th>841</th>\n",
       "      <td>Tata Zest XM Diesel</td>\n",
       "      <td>Tata</td>\n",
       "      <td>2016</td>\n",
       "      <td>260000</td>\n",
       "      <td>27,000 kms</td>\n",
       "      <td>Diesel</td>\n",
       "    </tr>\n",
       "    <tr>\n",
       "      <th>842</th>\n",
       "      <td>Mahindra Quanto C8</td>\n",
       "      <td>Mahindra</td>\n",
       "      <td>2015</td>\n",
       "      <td>390000</td>\n",
       "      <td>40,000 kms</td>\n",
       "      <td>Diesel</td>\n",
       "    </tr>\n",
       "    <tr>\n",
       "      <th>843</th>\n",
       "      <td>Honda Amaze 1.2 E i VTEC</td>\n",
       "      <td>Honda</td>\n",
       "      <td>2019</td>\n",
       "      <td>180000</td>\n",
       "      <td>Petrol</td>\n",
       "      <td>Petrol</td>\n",
       "    </tr>\n",
       "    <tr>\n",
       "      <th>844</th>\n",
       "      <td>Chevrolet Sail 1.2 LT ABS</td>\n",
       "      <td>Chevrolet</td>\n",
       "      <td>2018</td>\n",
       "      <td>160000</td>\n",
       "      <td>Petrol</td>\n",
       "      <td>Diesel</td>\n",
       "    </tr>\n",
       "  </tbody>\n",
       "</table>\n",
       "<p>834 rows × 6 columns</p>\n",
       "</div>"
      ],
      "text/plain": [
       "                                       name    company  year    Price  \\\n",
       "0      Hyundai Santro Xing XO eRLX Euro III    Hyundai  2018  80000.0   \n",
       "1                   Mahindra Jeep CL550 MDI   Mahindra  2019   425000   \n",
       "3    Hyundai Grand i10 Magna 1.2 Kappa VTVT    Hyundai  2014   325000   \n",
       "4          Ford EcoSport Titanium 1.5L TDCi       Ford  2016   575000   \n",
       "6                                 Ford Figo       Ford  2016   175000   \n",
       "..                                      ...        ...   ...      ...   \n",
       "840                    Toyota Corolla Altis     Toyota  2015   300000   \n",
       "841                     Tata Zest XM Diesel       Tata  2016   260000   \n",
       "842                      Mahindra Quanto C8   Mahindra  2015   390000   \n",
       "843                Honda Amaze 1.2 E i VTEC      Honda  2019   180000   \n",
       "844               Chevrolet Sail 1.2 LT ABS  Chevrolet  2018   160000   \n",
       "\n",
       "       kms_driven fuel_type  \n",
       "0      45,000 kms    Petrol  \n",
       "1          40 kms    Diesel  \n",
       "3      28,000 kms    Petrol  \n",
       "4      36,000 kms    Diesel  \n",
       "6      41,000 kms    Diesel  \n",
       "..            ...       ...  \n",
       "840  1,32,000 kms    Petrol  \n",
       "841    27,000 kms    Diesel  \n",
       "842    40,000 kms    Diesel  \n",
       "843        Petrol    Petrol  \n",
       "844        Petrol    Diesel  \n",
       "\n",
       "[834 rows x 6 columns]"
      ]
     },
     "execution_count": 38,
     "metadata": {},
     "output_type": "execute_result"
    }
   ],
   "source": [
    "cr[cr['Price']!= \"10000 kms\"]\n"
   ]
  },
  {
   "cell_type": "code",
   "execution_count": 45,
   "id": "6650a459",
   "metadata": {},
   "outputs": [],
   "source": [
    "cr['kms_driven'] = cr['kms_driven'].str.split('').str.get(0).str.replace(',','')"
   ]
  },
  {
   "cell_type": "code",
   "execution_count": 55,
   "id": "748f5f56",
   "metadata": {},
   "outputs": [
    {
     "name": "stdout",
     "output_type": "stream",
     "text": [
      "<class 'pandas.core.frame.DataFrame'>\n",
      "Int64Index: 0 entries\n",
      "Data columns (total 6 columns):\n",
      " #   Column      Non-Null Count  Dtype \n",
      "---  ------      --------------  ----- \n",
      " 0   name        0 non-null      object\n",
      " 1   company     0 non-null      object\n",
      " 2   year        0 non-null      int32 \n",
      " 3   Price       0 non-null      int32 \n",
      " 4   kms_driven  0 non-null      int32 \n",
      " 5   fuel_type   0 non-null      object\n",
      "dtypes: int32(3), object(3)\n",
      "memory usage: 0.0+ bytes\n"
     ]
    }
   ],
   "source": [
    "cr.info()"
   ]
  },
  {
   "cell_type": "code",
   "execution_count": 48,
   "id": "b32cb6d3",
   "metadata": {},
   "outputs": [],
   "source": [
    "cr = cr[cr['kms_driven'].str.isnumeric()]"
   ]
  },
  {
   "cell_type": "code",
   "execution_count": 49,
   "id": "8b1d334e",
   "metadata": {},
   "outputs": [],
   "source": [
    "cr['kms_driven'] = cr['kms_driven'].astype(int)"
   ]
  },
  {
   "cell_type": "code",
   "execution_count": 51,
   "id": "facf711d",
   "metadata": {},
   "outputs": [],
   "source": [
    "cr = cr[cr['Price'].str.isnumeric()]"
   ]
  },
  {
   "cell_type": "code",
   "execution_count": 52,
   "id": "43638687",
   "metadata": {},
   "outputs": [],
   "source": [
    "cr['Price'] = cr['Price'].astype(int)"
   ]
  },
  {
   "cell_type": "code",
   "execution_count": 53,
   "id": "c4ce7cc9",
   "metadata": {},
   "outputs": [
    {
     "name": "stdout",
     "output_type": "stream",
     "text": [
      "<class 'pandas.core.frame.DataFrame'>\n",
      "Int64Index: 0 entries\n",
      "Data columns (total 6 columns):\n",
      " #   Column      Non-Null Count  Dtype \n",
      "---  ------      --------------  ----- \n",
      " 0   name        0 non-null      object\n",
      " 1   company     0 non-null      object\n",
      " 2   year        0 non-null      int32 \n",
      " 3   Price       0 non-null      int32 \n",
      " 4   kms_driven  0 non-null      int32 \n",
      " 5   fuel_type   0 non-null      object\n",
      "dtypes: int32(3), object(3)\n",
      "memory usage: 0.0+ bytes\n"
     ]
    }
   ],
   "source": [
    "cr.info()"
   ]
  },
  {
   "cell_type": "code",
   "execution_count": 54,
   "id": "4a1928bb",
   "metadata": {},
   "outputs": [
    {
     "data": {
      "text/html": [
       "<div>\n",
       "<style scoped>\n",
       "    .dataframe tbody tr th:only-of-type {\n",
       "        vertical-align: middle;\n",
       "    }\n",
       "\n",
       "    .dataframe tbody tr th {\n",
       "        vertical-align: top;\n",
       "    }\n",
       "\n",
       "    .dataframe thead th {\n",
       "        text-align: right;\n",
       "    }\n",
       "</style>\n",
       "<table border=\"1\" class=\"dataframe\">\n",
       "  <thead>\n",
       "    <tr style=\"text-align: right;\">\n",
       "      <th></th>\n",
       "      <th>name</th>\n",
       "      <th>company</th>\n",
       "      <th>year</th>\n",
       "      <th>Price</th>\n",
       "      <th>kms_driven</th>\n",
       "      <th>fuel_type</th>\n",
       "    </tr>\n",
       "  </thead>\n",
       "  <tbody>\n",
       "  </tbody>\n",
       "</table>\n",
       "</div>"
      ],
      "text/plain": [
       "Empty DataFrame\n",
       "Columns: [name, company, year, Price, kms_driven, fuel_type]\n",
       "Index: []"
      ]
     },
     "execution_count": 54,
     "metadata": {},
     "output_type": "execute_result"
    }
   ],
   "source": [
    "cr.head()"
   ]
  },
  {
   "cell_type": "code",
   "execution_count": null,
   "id": "94bf2fa5",
   "metadata": {},
   "outputs": [],
   "source": []
  }
 ],
 "metadata": {
  "kernelspec": {
   "display_name": "Python 3 (ipykernel)",
   "language": "python",
   "name": "python3"
  },
  "language_info": {
   "codemirror_mode": {
    "name": "ipython",
    "version": 3
   },
   "file_extension": ".py",
   "mimetype": "text/x-python",
   "name": "python",
   "nbconvert_exporter": "python",
   "pygments_lexer": "ipython3",
   "version": "3.12.0"
  }
 },
 "nbformat": 4,
 "nbformat_minor": 5
}
